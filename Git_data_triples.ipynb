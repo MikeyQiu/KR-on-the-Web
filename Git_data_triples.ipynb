{
 "cells": [
  {
   "cell_type": "code",
   "execution_count": 11,
   "metadata": {},
   "outputs": [],
   "source": [
    "import requests\n",
    "import time\n",
    "import pymysql\n",
    "import os\n",
    "\n",
    "from rdflib import Graph, ConjunctiveGraph, Literal, BNode, Namespace, RDF, URIRef,RDFS\n",
    "from rdflib.namespace import DC, FOAF\n",
    "from owlrl import DeductiveClosure, RDFS_Semantics\n",
    "import pprint"
   ]
  },
  {
   "cell_type": "code",
   "execution_count": 2,
   "metadata": {},
   "outputs": [],
   "source": [
    "conn=pymysql.connect(host='mysql24.ezhostingserver.com', port=3306, user='krw',password='Y>!V@N_26@]cfJ7(')\n",
    "cursor=conn.cursor()"
   ]
  },
  {
   "cell_type": "markdown",
   "metadata": {},
   "source": [
    "### Getting list of repositories and authors from the file"
   ]
  },
  {
   "cell_type": "code",
   "execution_count": 3,
   "metadata": {},
   "outputs": [
    {
     "name": "stdout",
     "output_type": "stream",
     "text": [
      "2079\n"
     ]
    }
   ],
   "source": [
    "data = []\n",
    "cursor.execute(\"SELECT krw.repo.paper_url, repo_url, author \\\n",
    "               FROM krw.repo INNER JOIN krw.paper_author \\\n",
    "               ON krw.repo.paper_url=krw.paper_author.paper_url limit 10000;\")#(\"SELECT * FROM krw.training_view limit 10;\")\n",
    "for r in cursor:\n",
    "    data.append(list(r))\n",
    "    \n",
    "author_dict = {}\n",
    "# Version with name as one string\n",
    "for d in data:\n",
    "    if d[1] not in author_dict:\n",
    "        author_dict[d[1]]=[d[2]]\n",
    "    else:\n",
    "        author_dict[d[1]].append(d[2])\n",
    "print(len(author_dict.keys()))"
   ]
  },
  {
   "cell_type": "code",
   "execution_count": 6,
   "metadata": {},
   "outputs": [],
   "source": [
    "filename = 'scraped_data_mini.txt' # use full version later"
   ]
  },
  {
   "cell_type": "code",
   "execution_count": 10,
   "metadata": {},
   "outputs": [
    {
     "name": "stdout",
     "output_type": "stream",
     "text": [
      "Doing https://github.com/google/tf_mesh_renderer with 3 contributors\n",
      "Authors: ['Kyle Genova', 'Forrester Cole', 'Aaron Maschinot', 'Aaron Sarna', 'Daniel Vlasic', 'William T. Freeman']\n",
      "NULL in False\n",
      "Kyle Genova in True\n",
      "NULL in False\n",
      "Doing https://github.com/twke18/Adaptive_Affinity_Fields with 3 contributors\n",
      "Authors: ['Tsung-Wei Ke', 'Jyh-Jing Hwang', 'Ziwei Liu', 'Stella X. Yu']\n",
      "Tsung-Wei Ke in True\n",
      "Jyh-Jing Hwang in True\n",
      "Tsung-Wei Ke in True\n",
      "Doing https://github.com/VladyslavUsenko/basalt-mirror with 3 contributors\n",
      "Authors: ['Vladyslav Usenko', 'Nikolaus Demmel', 'Daniel Cremers', 'David Schubert', 'Thore Goll', 'Nikolaus Demmel', 'Vladyslav Usenko', 'Jörg Stückler', 'Daniel Cremers', 'Vladyslav Usenko', 'Nikolaus Demmel', 'David Schubert', 'Jörg Stückler', 'Daniel Cremers', 'Christiane Sommer', 'Vladyslav Usenko', 'David Schubert', 'Nikolaus Demmel', 'Daniel Cremers']\n",
      "Vladyslav Usenko in True\n",
      "Nikolaus Demmel in True\n",
      "NULL in False\n",
      "Doing https://github.com/new-okaerinasai/bwgan_pytorch with 2 contributors\n",
      "Authors: ['Jonas Adler', 'Sebastian Lunz']\n",
      "sofi in False\n",
      "Ruslan in False\n",
      "Doing https://github.com/ManuelVs/NeuralNetworks with 1 contributors\n",
      "Authors: ['Yoon Kim']\n",
      "Manuel in False\n",
      "Doing https://github.com/ruotianluo/DiscCaptioning with 4 contributors\n",
      "Authors: ['Peter Anderson', 'Xiaodong He', 'Chris Buehler', 'Damien Teney', 'Mark Johnson', 'Stephen Gould', 'Lei Zhang', 'Ramakrishna Vedantam', 'Samy Bengio', 'Kevin Murphy', 'Devi Parikh', 'Gal Chechik']\n",
      "Ruotian(RT) Luo in False\n",
      "Yongming Rao in False\n",
      "Jamie in False\n",
      "gujiuxiang in False\n",
      "Doing https://github.com/nitika-verma/FeaStNet with 1 contributors\n",
      "Authors: ['Nitika Verma', 'Edmond Boyer', 'Jakob Verbeek']\n",
      "Nitika Verma in True\n",
      "Doing https://github.com/tfolkman/deep-learning-experiments with 1 contributors\n",
      "Authors: ['Jiwei Li', 'Will Monroe', 'Alan Ritter', 'Michel Galley', 'Jianfeng Gao', 'Dan Jurafsky']\n",
      "Tyler Folkman in False\n",
      "Doing https://github.com/csliangdu/FSASL with 1 contributors\n",
      "Authors: ['Liang Du', 'Yi-Dong Shen']\n",
      "Liang in False\n",
      "Doing https://github.com/loshchil/SGDR with 1 contributors\n",
      "Authors: ['Ilya Loshchilov', 'Frank Hutter']\n",
      "Ilya Loshchilov in True\n",
      "Doing https://github.com/minhhuu291/Logo-Recognition with 1 contributors\n",
      "Authors: ['Wei Liu', 'Dragomir Anguelov', 'Dumitru Erhan', 'Christian Szegedy', 'Scott Reed', 'Cheng-Yang Fu', 'Alexander C. Berg']\n",
      "Huu Minh in False\n",
      "Doing https://github.com/bekou/ad_data with 1 contributors\n",
      "Authors: ['Giannis Bekoulis', 'Johannes Deleu', 'Thomas Demeester', 'Chris Develder']\n",
      "Giannis Bekoulis in True\n",
      "Doing https://github.com/openai/multiagent-competition with 2 contributors\n",
      "Authors: ['Trapit Bansal', 'Jakub Pachocki', 'Szymon Sidor', 'Ilya Sutskever', 'Igor Mordatch']\n",
      "Trapit Bansal in True\n",
      "Christopher Hesse in False\n",
      "Doing https://github.com/huanzhang12/CertifiedReLURobustness with 2 contributors\n",
      "Authors: ['Tsui-Wei Weng', 'Huan Zhang', 'Hongge Chen', 'Zhao Song', 'Cho-Jui Hsieh', 'Duane Boning', 'Inderjit S. Dhillon', 'Luca Daniel']\n",
      "Huan Zhang in True\n",
      "NULL in False\n",
      "Doing https://github.com/SDuari/sCAKE-in-Python with 2 contributors\n",
      "Authors: ['Swagata Duari', 'Vasudha Bhatnagar']\n",
      "Surbhi Mittal in False\n",
      "Swagata Duari in True\n",
      "Doing https://github.com/MichiganCOG/M-PACT with 2 contributors\n",
      "Authors: ['Du Tran', 'Lubomir Bourdev', 'Rob Fergus', 'Lorenzo Torresani', 'Manohar Paluri']\n",
      "Eric Hofesmann in False\n",
      "NULL in False\n"
     ]
    }
   ],
   "source": [
    "paper_data = {}\n",
    "\n",
    "with open(filename) as fp:\n",
    "    line = fp.readline().split()\n",
    "    current_repo = line[0]\n",
    "    contributors = [line[1:]]\n",
    "    while line:\n",
    "        line = fp.readline().split()\n",
    "        if len(line) and line[0]==current_repo:\n",
    "            contributors.append(line[1:])\n",
    "        else:\n",
    "            print(f'Doing {current_repo} with {len(contributors)} contributors')\n",
    "            print(f'Authors: {author_dict[current_repo]}')\n",
    "            paper_data[current_repo] = {}\n",
    "            for cont in contributors:\n",
    "                author_name = cont[1].replace(\"_\",\" \")\n",
    "                found_name = author_name in author_dict[current_repo]\n",
    "                print(f\"{author_name} in {found_name}\")\n",
    "                if found_name:\n",
    "                    paper_data[current_repo][author_name] = cont[2:]\n",
    "            # after saving previous authors, load new repo\n",
    "            if len(line):\n",
    "                current_repo = line[0]\n",
    "                contributors = [line[1:]]         "
   ]
  },
  {
   "cell_type": "markdown",
   "metadata": {},
   "source": [
    "### Creating graph"
   ]
  },
  {
   "cell_type": "code",
   "execution_count": null,
   "metadata": {},
   "outputs": [],
   "source": [
    "def lookup_id(author,df):\n",
    "        author_id=\"\"\n",
    "    #     for index, row in df.iterrows():\n",
    "        for index, row in df.iterrows():\n",
    "            #print(index)\n",
    "            #print(k1,v2)\n",
    "            if author==row[\"name\"]:\n",
    "                author_id=(df.at[index,\"authorID\"])\n",
    "                break\n",
    "        return author_id"
   ]
  }
 ],
 "metadata": {
  "kernelspec": {
   "display_name": "Python 3",
   "language": "python",
   "name": "python3"
  },
  "language_info": {
   "codemirror_mode": {
    "name": "ipython",
    "version": 3
   },
   "file_extension": ".py",
   "mimetype": "text/x-python",
   "name": "python",
   "nbconvert_exporter": "python",
   "pygments_lexer": "ipython3",
   "version": "3.7.6"
  }
 },
 "nbformat": 4,
 "nbformat_minor": 4
}
