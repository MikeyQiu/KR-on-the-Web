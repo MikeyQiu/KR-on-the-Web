{
 "cells": [
  {
   "cell_type": "code",
   "execution_count": 1,
   "metadata": {},
   "outputs": [],
   "source": [
    "import requests\n",
    "import time\n",
    "from bs4 import BeautifulSoup\n",
    "from selenium import webdriver\n"
   ]
  },
  {
   "cell_type": "markdown",
   "metadata": {},
   "source": [
    "### API approach, has limits per day"
   ]
  },
  {
   "cell_type": "code",
   "execution_count": 2,
   "metadata": {},
   "outputs": [
    {
     "name": "stdout",
     "output_type": "stream",
     "text": [
      "Requestiong:  poloclub cnn-explainer\n",
      "https://api.github.com/repos/poloclub/cnn-explainer/contributors\n",
      "user \"xiaohk\" has 189 contributions\n",
      "https://github-user.now.sh/?username=xiaohk\n"
     ]
    },
    {
     "ename": "TypeError",
     "evalue": "'Response' object is not subscriptable",
     "output_type": "error",
     "traceback": [
      "\u001b[0;31m---------------------------------------------------------------------------\u001b[0m",
      "\u001b[0;31mTypeError\u001b[0m                                 Traceback (most recent call last)",
      "\u001b[0;32m<ipython-input-2-7eccbc3e1b7b>\u001b[0m in \u001b[0;36m<module>\u001b[0;34m\u001b[0m\n\u001b[1;32m     20\u001b[0m         \u001b[0mprint\u001b[0m\u001b[0;34m(\u001b[0m\u001b[0;34mf'user \"{user[\"login\"]}\" has {user[\"contributions\"]} contributions'\u001b[0m\u001b[0;34m)\u001b[0m\u001b[0;34m\u001b[0m\u001b[0;34m\u001b[0m\u001b[0m\n\u001b[1;32m     21\u001b[0m         \u001b[0muser_info\u001b[0m \u001b[0;34m=\u001b[0m \u001b[0mrest_get\u001b[0m\u001b[0;34m(\u001b[0m\u001b[0mgituser\u001b[0m\u001b[0;34m+\u001b[0m\u001b[0muser\u001b[0m\u001b[0;34m[\u001b[0m\u001b[0;34m\"login\"\u001b[0m\u001b[0;34m]\u001b[0m\u001b[0;34m)\u001b[0m\u001b[0;34m\u001b[0m\u001b[0;34m\u001b[0m\u001b[0m\n\u001b[0;32m---> 22\u001b[0;31m         \u001b[0mprint\u001b[0m\u001b[0;34m(\u001b[0m\u001b[0;34mf\"Name: {user_info['name']}, Description: {user_info['description']}\"\u001b[0m\u001b[0;34m)\u001b[0m\u001b[0;34m\u001b[0m\u001b[0;34m\u001b[0m\u001b[0m\n\u001b[0m\u001b[1;32m     23\u001b[0m \u001b[0;34m\u001b[0m\u001b[0m\n",
      "\u001b[0;31mTypeError\u001b[0m: 'Response' object is not subscriptable"
     ]
    }
   ],
   "source": [
    "links = ['https://github.com/poloclub/cnn-explainer']\n",
    "github = 'https://api.github.com/'\n",
    "gituser = 'https://github-user.now.sh/?username='\n",
    "\n",
    "def rest_get(apilink):\n",
    "    print(apilink)\n",
    "    resp = requests.get(apilink)\n",
    "    if resp.status_code != 200:\n",
    "        # This means something went wrong.\n",
    "        raise Exception('GET {} {}'.format(apilink, resp.status_code))\n",
    "    else:\n",
    "        return resp\n",
    "    \n",
    "for l in links:\n",
    "    repo_split = l.split('/')\n",
    "    owner, repo = repo_split[-2], repo_split[-1]\n",
    "    print('Requestiong: ',owner, repo)\n",
    "    resp = rest_get(f'{github}repos/{owner}/{repo}/contributors')\n",
    "    for user in resp.json():\n",
    "        print(f'user \"{user[\"login\"]}\" has {user[\"contributions\"]} contributions')\n",
    "        user_info = rest_get(gituser+user[\"login\"])\n",
    "        print(f\"Name: {user_info['name']}, Description: {user_info['description']}\")\n",
    "    "
   ]
  },
  {
   "cell_type": "markdown",
   "metadata": {},
   "source": [
    "### Full scraping approach"
   ]
  },
  {
   "cell_type": "code",
   "execution_count": 3,
   "metadata": {},
   "outputs": [],
   "source": [
    "repos = ['https://github.com/poloclub/cnn-explainer', 'https://github.com/openai/jukebox']"
   ]
  },
  {
   "cell_type": "code",
   "execution_count": 4,
   "metadata": {},
   "outputs": [
    {
     "name": "stdout",
     "output_type": "stream",
     "text": [
      "https://github.com/poloclub/cnn-explainer\n",
      "User xiaohk: commits 189 , changed lines + 35,562 - 14,943\n",
      "https://github.com/xiaohk\n",
      "name: Jay Wang, bio: Machine Learning PhD student at Georgia Tech.\n",
      "\n",
      "\n",
      "Life is not always 🦄 and 🌈, but my favorite emoji is 😉\n",
      "\n",
      "User rturko3: commits 58 , changed lines + 2,870 - 950\n",
      "https://github.com/rturko3\n",
      "name: , bio: CS Undergraduate @ Georgia Tech\n",
      "\n",
      "User oshaikh13: commits 8 , changed lines + 117 - 74\n",
      "https://github.com/oshaikh13\n",
      "name: Omar Shaikh, bio: no u\n",
      "\n",
      "https://github.com/openai/jukebox\n",
      "User prafullasd: commits 49 , changed lines + 54,045 - 301\n",
      "https://github.com/prafullasd\n",
      "name: Prafulla Dhariwal, bio: \n",
      "\n",
      "User heewooj: commits 24 , changed lines + 393 - 344\n",
      "https://github.com/heewooj\n",
      "name: Heewoo Jun, bio: \n",
      "\n",
      "User jongwook: commits 5 , changed lines + 18 - 13\n",
      "https://github.com/jongwook\n",
      "name: Jong Wook Kim, bio: \n",
      "\n",
      "User mcleavey: commits 4 , changed lines + 964 - 3\n",
      "https://github.com/mcleavey\n",
      "name: Christine Payne, bio: OpenAI Researcher. Stanford Masters in Medicine. Princeton Valedictorian.\n",
      "\n",
      "User johndpope: commits 2 , changed lines + 7 - 5\n",
      "https://github.com/johndpope\n",
      "name: John D. Pope, bio: swift / crypto / ai / ml / quant\n",
      "\n",
      "User gnhdnb: commits 2 , changed lines + 126 - 25\n",
      "https://github.com/gnhdnb\n",
      "name: Nikita Prudnikov, bio: Live coder: github.com/gnhdnb/Flaky //// ML in music: soundcloud.com/monekeer / CTO: mindbox.cloud\n",
      "\n",
      "User jdlozanom: commits 1 , changed lines + 2 - 2\n",
      "https://github.com/jdlozanom\n",
      "name: Juan Diego Lozano, bio: \n",
      "\n"
     ]
    }
   ],
   "source": [
    "driver = webdriver.Firefox()\n",
    "\n",
    "for repo in repos:\n",
    "    print(repo)\n",
    "    driver.get(f'{repo}/graphs/contributors')\n",
    "    time.sleep(2)\n",
    "    #delay of some kind wait for load time.sleep(3) or selenium wait for an element to be visible\n",
    "    website = BeautifulSoup(driver.page_source, 'html')\n",
    "    boxes = website.find_all('h3', {'class':'border-bottom p-2 lh-condensed'})\n",
    "    for user in boxes:\n",
    "        username = user.find('a', {'class':'text-normal', 'data-hovercard-type':'user'}).text.strip()\n",
    "        info_line = user.find_all(('span', {'class':'cmeta'}))\n",
    "        #print(info_line[1])\n",
    "        commits = info_line[1].find('a').text.strip().split()[0]\n",
    "        added = info_line[1].find('span', {'class':\"text-green text-normal\"}).text.strip().split()[0]\n",
    "        deleted = info_line[1].find('span', {'class':\"text-red text-normal\"}).text.strip().split()[0]\n",
    "        print(f'User {username}: commits {commits} , changed lines + {added} - {deleted}')\n",
    "        scrape = rest_get(f'https://github.com/{username}')\n",
    "        soup = BeautifulSoup(scrape.content, 'html.parser')\n",
    "        name = soup.find('span', class_='p-name vcard-fullname d-block overflow-hidden').text.strip()\n",
    "        bio = soup.find('div', class_='p-note user-profile-bio mb-2 js-user-profile-bio').text.strip()\n",
    "        print(f'name: {name}, bio: {bio}')\n",
    "        print()"
   ]
  },
  {
   "cell_type": "code",
   "execution_count": null,
   "metadata": {},
   "outputs": [],
   "source": []
  }
 ],
 "metadata": {
  "kernelspec": {
   "display_name": "Python 3",
   "language": "python",
   "name": "python3"
  },
  "language_info": {
   "codemirror_mode": {
    "name": "ipython",
    "version": 3
   },
   "file_extension": ".py",
   "mimetype": "text/x-python",
   "name": "python",
   "nbconvert_exporter": "python",
   "pygments_lexer": "ipython3",
   "version": "3.7.6"
  }
 },
 "nbformat": 4,
 "nbformat_minor": 4
}
