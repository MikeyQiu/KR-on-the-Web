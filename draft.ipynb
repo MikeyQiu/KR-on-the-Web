{
 "cells": [
  {
   "cell_type": "code",
   "execution_count": 86,
   "metadata": {},
   "outputs": [
    {
     "name": "stdout",
     "output_type": "stream",
     "text": [
      "Requirement already satisfied: urllib3 in /Applications/anaconda3/lib/python3.7/site-packages (1.24.2)\n",
      "Note: you may need to restart the kernel to use updated packages.\n"
     ]
    }
   ],
   "source": [
    "pip install urllib3"
   ]
  },
  {
   "cell_type": "code",
   "execution_count": 51,
   "metadata": {},
   "outputs": [],
   "source": [
    "import pymysql\n",
    "\n",
    "conn=pymysql.connect(host='mysql24.ezhostingserver.com', port=3306, user='krw',password='Y>!V@N_26@]cfJ7(')\n",
    "\n",
    "cursor=conn.cursor()\n",
    "lst=[]\n",
    "templist=[]\n",
    "cursor.execute(\"SELECT * FROM krw.training_view limit 10;\")\n",
    "for r in cursor:\n",
    "    lst.append(list(r))\n",
    "    "
   ]
  },
  {
   "cell_type": "code",
   "execution_count": 52,
   "metadata": {},
   "outputs": [
    {
     "name": "stdout",
     "output_type": "stream",
     "text": [
      "https://arxiv.org/pdf/1901.01588.pdf\n"
     ]
    }
   ],
   "source": [
    "name=lst[9][4]\n",
    "url=\"https://arxiv.org/pdf/\"+str(name)+\".pdf\"\n",
    "print(url)"
   ]
  },
  {
   "cell_type": "code",
   "execution_count": 24,
   "metadata": {},
   "outputs": [
    {
     "name": "stdout",
     "output_type": "stream",
     "text": [
      "Collecting pdfminer3k\n",
      "\u001b[?25l  Downloading https://files.pythonhosted.org/packages/8c/87/cee0aa24f95c287020df7e3936cb51d32b34b05b430759bac15f89ea5ac2/pdfminer3k-1.3.1.tar.gz (4.1MB)\n",
      "\u001b[K     |████████████████████████████████| 4.1MB 3.0MB/s eta 0:00:01\n",
      "\u001b[?25hRequirement already satisfied: pytest>=2.0 in /Applications/anaconda3/lib/python3.7/site-packages (from pdfminer3k) (5.2.1)\n",
      "Requirement already satisfied: ply>=3.4 in /Applications/anaconda3/lib/python3.7/site-packages (from pdfminer3k) (3.11)\n",
      "Requirement already satisfied: py>=1.5.0 in /Applications/anaconda3/lib/python3.7/site-packages (from pytest>=2.0->pdfminer3k) (1.8.0)\n",
      "Requirement already satisfied: packaging in /Applications/anaconda3/lib/python3.7/site-packages (from pytest>=2.0->pdfminer3k) (19.2)\n",
      "Requirement already satisfied: attrs>=17.4.0 in /Applications/anaconda3/lib/python3.7/site-packages (from pytest>=2.0->pdfminer3k) (19.2.0)\n",
      "Requirement already satisfied: more-itertools>=4.0.0 in /Applications/anaconda3/lib/python3.7/site-packages (from pytest>=2.0->pdfminer3k) (7.2.0)\n",
      "Requirement already satisfied: atomicwrites>=1.0 in /Applications/anaconda3/lib/python3.7/site-packages (from pytest>=2.0->pdfminer3k) (1.3.0)\n",
      "Requirement already satisfied: pluggy<1.0,>=0.12 in /Applications/anaconda3/lib/python3.7/site-packages (from pytest>=2.0->pdfminer3k) (0.13.0)\n",
      "Requirement already satisfied: wcwidth in /Applications/anaconda3/lib/python3.7/site-packages (from pytest>=2.0->pdfminer3k) (0.1.7)\n",
      "Requirement already satisfied: importlib-metadata>=0.12 in /Applications/anaconda3/lib/python3.7/site-packages (from pytest>=2.0->pdfminer3k) (0.23)\n",
      "Requirement already satisfied: pyparsing>=2.0.2 in /Applications/anaconda3/lib/python3.7/site-packages (from packaging->pytest>=2.0->pdfminer3k) (2.4.2)\n",
      "Requirement already satisfied: six in /Applications/anaconda3/lib/python3.7/site-packages (from packaging->pytest>=2.0->pdfminer3k) (1.12.0)\n",
      "Requirement already satisfied: zipp>=0.5 in /Applications/anaconda3/lib/python3.7/site-packages (from importlib-metadata>=0.12->pytest>=2.0->pdfminer3k) (0.6.0)\n",
      "Building wheels for collected packages: pdfminer3k\n",
      "  Building wheel for pdfminer3k (setup.py) ... \u001b[?25ldone\n",
      "\u001b[?25h  Created wheel for pdfminer3k: filename=pdfminer3k-1.3.1-cp37-none-any.whl size=105357 sha256=84bc99ff04659f640697f7d01fd7bcca79411708bfe4034f09dfab0c60ad84e1\n",
      "  Stored in directory: /Users/qiuhuishi/Library/Caches/pip/wheels/ca/4f/a7/cb601b4fb257d2321ac668b7c6e269176780bd0283eda855d2\n",
      "Successfully built pdfminer3k\n",
      "Installing collected packages: pdfminer3k\n",
      "Successfully installed pdfminer3k-1.3.1\n",
      "Note: you may need to restart the kernel to use updated packages.\n"
     ]
    }
   ],
   "source": [
    "pip install pdfminer3k"
   ]
  },
  {
   "cell_type": "code",
   "execution_count": 68,
   "metadata": {},
   "outputs": [],
   "source": [
    "import urllib\n",
    "from io import BytesIO\n",
    "from pdfminer.pdfparser import PDFParser\n",
    "from pdfminer.pdfdocument import PDFDocument\n",
    "from pdfminer.pdfpage import PDFPage\n",
    "from pdfminer.pdfpage import PDFTextExtractionNotAllowed\n",
    "from pdfminer.pdfinterp import PDFResourceManager\n",
    "from pdfminer.pdfinterp import PDFPageInterpreter\n",
    "from pdfminer.pdfdevice import PDFDevice\n",
    "from pdfminer.layout import *\n",
    "from pdfminer.converter import PDFPageAggregator\n",
    "from urllib.request import Request\n",
    "from urllib.request import urlopen\n",
    "# 定义解析函数\n",
    "\n",
    "def OnlinePdfToTxt(dataIo,new_path):\n",
    "    # 创建一个文档分析器\n",
    "    parser = PDFParser(dataIo)\n",
    "    # 创建一个PDF文档对象存储文档结构\n",
    "    document = PDFDocument(parser)\n",
    "    # 判断文件是否允许文本提取\n",
    "    if not document.is_extractable:\n",
    "        raise PDFTextExtractionNotAllowed\n",
    "    else:\n",
    "        # 创建一个PDF资源管理器对象来存储资源\n",
    "        resmag =PDFResourceManager()\n",
    "        # 设定参数进行分析\n",
    "        laparams=LAParams()\n",
    "        # 创建一个PDF设备对象\n",
    "        # device=PDFDevice(resmag )\n",
    "        device=PDFPageAggregator(resmag ,laparams=laparams)\n",
    "        # 创建一个PDF解释器对象\n",
    "        interpreter=PDFPageInterpreter(resmag ,device)\n",
    "        # 处理每一页\n",
    "        for page in PDFPage.create_pages(document):\n",
    "            interpreter.process_page(page)\n",
    "            # 接受该页面的LTPage对象\n",
    "            layout=device.get_result()\n",
    "            for y in layout:\n",
    "                try:\n",
    "                    if(isinstance(y,LTTextBoxHorizontal)):\n",
    "                        with open('%s'%(new_path),'a',encoding=\"utf-8\") as f:\n",
    "                            f.write(y.get_text()+'\\n')\n",
    "#                             print(\"读入成功！\")\n",
    "                except:\n",
    "                    print(\"读入失败!\")\n",
    "\n",
    "# 获取文件的路径\n",
    "#url = \"https://arxiv.org/pdf/2004.11055.pdf\"\n",
    "html = urllib.request.urlopen(urllib.request.Request(url)).read()\n",
    "dataIo = BytesIO(html)\n",
    "OnlinePdfToTxt(dataIo,'txt/'+str(name)+'.txt')"
   ]
  },
  {
   "cell_type": "code",
   "execution_count": 44,
   "metadata": {},
   "outputs": [],
   "source": [
    "import spacy\n",
    "from spacy import displacy\n",
    "from collections import Counter\n",
    "import en_core_web_sm\n",
    "nlp = en_core_web_sm.load()"
   ]
  },
  {
   "cell_type": "code",
   "execution_count": 101,
   "metadata": {},
   "outputs": [
    {
     "ename": "ImportError",
     "evalue": "cannot import name 'process_pdf' from 'pdfminer.pdfinterp' (/Applications/anaconda3/lib/python3.7/site-packages/pdfminer/pdfinterp.py)",
     "output_type": "error",
     "traceback": [
      "\u001b[0;31m---------------------------------------------------------------------------\u001b[0m",
      "\u001b[0;31mImportError\u001b[0m                               Traceback (most recent call last)",
      "\u001b[0;32m<ipython-input-101-82ac746969d1>\u001b[0m in \u001b[0;36m<module>\u001b[0;34m\u001b[0m\n\u001b[1;32m      1\u001b[0m \u001b[0;32mfrom\u001b[0m \u001b[0murllib\u001b[0m\u001b[0;34m.\u001b[0m\u001b[0mrequest\u001b[0m \u001b[0;32mimport\u001b[0m \u001b[0murlopen\u001b[0m\u001b[0;34m\u001b[0m\u001b[0;34m\u001b[0m\u001b[0m\n\u001b[1;32m      2\u001b[0m \u001b[0;32mfrom\u001b[0m \u001b[0mio\u001b[0m \u001b[0;32mimport\u001b[0m \u001b[0mStringIO\u001b[0m\u001b[0;34m\u001b[0m\u001b[0;34m\u001b[0m\u001b[0m\n\u001b[0;32m----> 3\u001b[0;31m \u001b[0;32mfrom\u001b[0m \u001b[0mpdfminer\u001b[0m\u001b[0;34m.\u001b[0m\u001b[0mpdfinterp\u001b[0m \u001b[0;32mimport\u001b[0m \u001b[0mPDFResourceManager\u001b[0m\u001b[0;34m,\u001b[0m \u001b[0mprocess_pdf\u001b[0m\u001b[0;34m\u001b[0m\u001b[0;34m\u001b[0m\u001b[0m\n\u001b[0m\u001b[1;32m      4\u001b[0m \u001b[0;32mfrom\u001b[0m \u001b[0mpdfminer\u001b[0m\u001b[0;34m.\u001b[0m\u001b[0mconverter\u001b[0m \u001b[0;32mimport\u001b[0m \u001b[0mTextConverter\u001b[0m\u001b[0;34m\u001b[0m\u001b[0;34m\u001b[0m\u001b[0m\n\u001b[1;32m      5\u001b[0m \u001b[0;32mfrom\u001b[0m \u001b[0mpdfminer\u001b[0m\u001b[0;34m.\u001b[0m\u001b[0mlayout\u001b[0m \u001b[0;32mimport\u001b[0m  \u001b[0mLAParams\u001b[0m\u001b[0;34m\u001b[0m\u001b[0;34m\u001b[0m\u001b[0m\n",
      "\u001b[0;31mImportError\u001b[0m: cannot import name 'process_pdf' from 'pdfminer.pdfinterp' (/Applications/anaconda3/lib/python3.7/site-packages/pdfminer/pdfinterp.py)"
     ]
    }
   ],
   "source": [
    "from urllib.request import urlopen\n",
    "from io import StringIO\n",
    "from pdfminer.pdfinterp import PDFResourceManager, process_pdf\n",
    "from pdfminer.converter import TextConverter\n",
    "from pdfminer.layout import  LAParams\n",
    "import logging\n",
    "import re\n",
    "\n",
    "def readPdf(pdf_file):\n",
    "    logging.propagate = False\n",
    "    logging.getLogger().setLevel(logging.ERROR)\n",
    "    rsrcmgr = PDFResourceManager()\n",
    "    retstr = StringIO()\n",
    "    laparams = LAParams()\n",
    "    device = TextConverter(rsrcmgr=rsrcmgr, outfp=retstr, laparams=laparams)\n",
    "\n",
    "    process_pdf(rsrcmgr=rsrcmgr, device=device, fp=pdf_file)\n",
    "    device.close()\n",
    "\n",
    "    content = retstr.getvalue()\n",
    "    retstr.close()\n",
    "\n",
    "    return content\n",
    "\n",
    "url = \"https://www1.sehk/2019/0430/ltn201904301249.pdf\"\n",
    "pdf_file = urlopen(url) # 也可以换成本地pdf文件，用open rb模式打开\n",
    "print(pdf_file)\n",
    "content = readPdf(pdf_file)\n",
    "s = r'(\\n|\\r|\\xa0|/s/|\\t|&nbsp;|&#\\d*;)'\n",
    "body = re.sub(s,' ',content)\n",
    "print(body.replace(' ',' '))\n",
    "pdf_file.close()"
   ]
  },
  {
   "cell_type": "code",
   "execution_count": 100,
   "metadata": {},
   "outputs": [
    {
     "name": "stdout",
     "output_type": "stream",
     "text": [
      "Collecting pdfminer\n",
      "\u001b[?25l  Downloading https://files.pythonhosted.org/packages/71/a3/155c5cde5f9c0b1069043b2946a93f54a41fd72cc19c6c100f6f2f5bdc15/pdfminer-20191125.tar.gz (4.2MB)\n",
      "\u001b[K     |████████████████████████████████| 4.2MB 3.6MB/s eta 0:00:01\n",
      "\u001b[?25hCollecting pycryptodome (from pdfminer)\n",
      "\u001b[?25l  Downloading https://files.pythonhosted.org/packages/0e/b9/6cc7e451a7b35d9151d52ee904525aa8b883489095bfc61c3d45003c4f47/pycryptodome-3.9.7-cp37-cp37m-macosx_10_6_intel.whl (14.1MB)\n",
      "\u001b[K     |████████████████████████████████| 14.1MB 3.8MB/s eta 0:00:01\n",
      "\u001b[?25hBuilding wheels for collected packages: pdfminer\n",
      "  Building wheel for pdfminer (setup.py) ... \u001b[?25ldone\n",
      "\u001b[?25h  Created wheel for pdfminer: filename=pdfminer-20191125-cp37-none-any.whl size=6140071 sha256=9fa08573b4dfe0d273f1ea3d09f80d4e62b6263171d582f2daa7484dc18fdd05\n",
      "  Stored in directory: /Users/qiuhuishi/Library/Caches/pip/wheels/e1/00/af/720a55d74ba3615bb4709a3ded6dd71dc5370a586a0ff6f326\n",
      "Successfully built pdfminer\n",
      "Installing collected packages: pycryptodome, pdfminer\n",
      "Successfully installed pdfminer-20191125 pycryptodome-3.9.7\n",
      "Note: you may need to restart the kernel to use updated packages.\n"
     ]
    }
   ],
   "source": [
    "pip install pdfminer"
   ]
  },
  {
   "cell_type": "code",
   "execution_count": 66,
   "metadata": {},
   "outputs": [
    {
     "data": {
      "text/plain": [
       "['zhengli@hotmail.com', 'zhaoy@cmu.edu', 'znasrullah@cs.toronto.edu']"
      ]
     },
     "execution_count": 66,
     "metadata": {},
     "output_type": "execute_result"
    }
   ],
   "source": [
    "import re\n",
    "#print (data.read())\n",
    "\n",
    "file = open('txt/'+str(name)+'.txt',encoding=\"ISO-8859-1\")\n",
    "# file = open('test3.txt',encoding=\"ISO-8859-1\")\n",
    "\n",
    "strings=file.read()#获取文件内容，到内存\n",
    "\n",
    "# file.close()#读关闭\n",
    "\n",
    "matches = []\n",
    "\n",
    "emailRegex = re.compile(r'''(\n",
    "\n",
    "    [a-zA-Z0-9._%+-]+      # username\n",
    "\n",
    "    @                      # @ symbol\n",
    "\n",
    "    [a-zA-Z0-9.-]+        # domain name\n",
    "\n",
    "    (\\.[a-zA-Z]{2,4}){1,2} # dot-something\n",
    "\n",
    "    )''', re.VERBOSE)\n",
    "\n",
    "for groups in emailRegex.findall(strings):\n",
    "\n",
    "    matches.append(groups[0])\n",
    "\n",
    "# f1 = open('test1.txt','a',encoding='utf-8')#打开新的文件\n",
    "\n",
    "list2 = list(set(matches))#去重\n",
    "\n",
    "# print(list2)\n",
    "\n",
    "list_nums = len(list2)#列表的数量，长度\n",
    "\n",
    "#循环写入文件，并换行\n",
    "emailList=[]\n",
    "for line in range(list_nums):\n",
    "    emailList.append(list2[line])\n",
    "\n",
    "\n",
    "    \n",
    "emailList\n"
   ]
  },
  {
   "cell_type": "code",
   "execution_count": 29,
   "metadata": {},
   "outputs": [
    {
     "name": "stdout",
     "output_type": "stream",
     "text": [
      "Requirement already satisfied: python-Levenshtein in /Applications/anaconda3/lib/python3.7/site-packages (0.12.0)\n",
      "Requirement already satisfied: setuptools in /Applications/anaconda3/lib/python3.7/site-packages (from python-Levenshtein) (41.4.0)\n",
      "Note: you may need to restart the kernel to use updated packages.\n"
     ]
    }
   ],
   "source": [
    "pip install python-Levenshtein"
   ]
  },
  {
   "cell_type": "code",
   "execution_count": 67,
   "metadata": {},
   "outputs": [
    {
     "data": {
      "text/plain": [
       "{'Yue Zhao': 'zhaoy@cmu.edu',\n",
       " 'Zheng Li': 'zhengli@hotmail.com',\n",
       " 'Zain Nashlurral': 'znasrullah@cs.toronto.edu'}"
      ]
     },
     "execution_count": 67,
     "metadata": {},
     "output_type": "execute_result"
    }
   ],
   "source": [
    "from Levenshtein import *\n",
    "def author_email_matching(nameList, emailList):\n",
    "    if len(emailList)==0:\n",
    "        return\n",
    "    name_email={}\n",
    "    for name in nameList:\n",
    "        highest=0\n",
    "        index=0\n",
    "        for i in range(len(emailList)):\n",
    "            pat = re.compile(''+'(.*?)'+'@', re.S)\n",
    "            email = pat.findall(emailList[i])\n",
    "            #print(jaro(name, str(email)))\n",
    "            if jaro(name, emailList[i])>highest:\n",
    "                index=i\n",
    "                highest=jaro(name, emailList[i])\n",
    "        name_email[name]=emailList[index]\n",
    "        if highest>=0.6:\n",
    "            emailList.remove(emailList[index])\n",
    "    return name_email\n",
    "        \n",
    "#nameList=['Xiang Ren', 'Teng Ren', 'Jiawei Han']\n",
    "#nameList=['Alma Rahat', 'Michael Wood']\n",
    "nameList=['Yue Zhao', 'Zheng Li', 'Zain Nashlurral']\n",
    "author_email_matching(nameList, emailList)"
   ]
  },
  {
   "cell_type": "code",
   "execution_count": 59,
   "metadata": {},
   "outputs": [
    {
     "name": "stdout",
     "output_type": "stream",
     "text": [
      "['ments\\n\\nWe thank the editor and anonymous reviewers for their constructive comments. This work\\nwas partly supported by Mitacs through the Mitacs Accelerate program.\\n\\n']\n"
     ]
    }
   ],
   "source": [
    "#file = open('test3.txt',encoding=\"ISO-8859-1\")\n",
    "keyStart = 'Acknowledg+'\n",
    "keyEnd = 'References'\n",
    "#buff = file.read()\n",
    "pat = re.compile(keyStart+'(.*?)'+keyEnd, re.S)\n",
    "result = pat.findall(strings)\n",
    "print(result)\n",
    "file.close()"
   ]
  },
  {
   "cell_type": "code",
   "execution_count": 60,
   "metadata": {},
   "outputs": [
    {
     "name": "stdout",
     "output_type": "stream",
     "text": [
      "mentsWe thank the editor and anonymous reviewers for their constructive comments. This workwas partly supported by Mitacs through the Mitacs Accelerate program.\n",
      "[('Mitacs', 'PERSON')]\n"
     ]
    }
   ],
   "source": [
    "#ack1='This work was supported by the project LO1506 of the Czech Ministry of Education, Youth and Sports and by Grant No. SGS-2016-018 Data and Software Engineeringfor Advanced Applications.'\n",
    "txt=''\n",
    "txt=txt.join(result)\n",
    "txt=txt.replace('\\n', '').replace('\\r', '')\n",
    "print(txt)\n",
    "doc=nlp(txt)\n",
    "print([(X.text, X.label_) for X in doc.ents])\n",
    "for X in doc.ents:\n",
    "    if X.label_=='ORG':\n",
    "        print(X.text)\n",
    "        "
   ]
  },
  {
   "cell_type": "code",
   "execution_count": null,
   "metadata": {},
   "outputs": [],
   "source": []
  }
 ],
 "metadata": {
  "kernelspec": {
   "display_name": "Python 3",
   "language": "python",
   "name": "python3"
  },
  "language_info": {
   "codemirror_mode": {
    "name": "ipython",
    "version": 3
   },
   "file_extension": ".py",
   "mimetype": "text/x-python",
   "name": "python",
   "nbconvert_exporter": "python",
   "pygments_lexer": "ipython3",
   "version": "3.7.4"
  }
 },
 "nbformat": 4,
 "nbformat_minor": 4
}
