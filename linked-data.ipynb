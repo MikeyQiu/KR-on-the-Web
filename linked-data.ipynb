{
 "cells": [
  {
   "cell_type": "markdown",
   "metadata": {},
   "source": [
    "# COW, DBpedia and GeoNames tutorial\n",
    "\n",
    "In this tutorial we'll learn the basics of COW (CSVW on the Web converter), we'll link entities in text with DBpedia Spotlight, and we'll link spatial entities with GeoNames"
   ]
  },
  {
   "cell_type": "markdown",
   "metadata": {},
   "source": [
    "## COW -- basic functionality\n",
    "\n",
    "We'll use either the CLI or the Web service:\n",
    "\n",
    "- For the CLI: ``pip install cow_csvw``\n",
    "- For the Web service: http://cattle.datalegend.net\n",
    "- Manual is [here](https://csvw-converter.readthedocs.io/)"
   ]
  },
  {
   "cell_type": "code",
   "execution_count": 1,
   "metadata": {},
   "outputs": [
    {
     "data": {
      "text/plain": [
       "<Graph identifier=file:///Users/qiuhuishi/rdf-tutorial/Sheet1.csv.nq (<class 'rdflib.graph.Graph'>)>"
      ]
     },
     "execution_count": 1,
     "metadata": {},
     "output_type": "execute_result"
    }
   ],
   "source": [
    "from rdflib import Graph, ConjunctiveGraph\n",
    "\n",
    "# Import your COW generated graph here\n",
    "g = ConjunctiveGraph()\n",
    "\n",
    "g.parse(\"Sheet1.csv.nq\", format='nquads')"
   ]
  },
  {
   "cell_type": "code",
   "execution_count": null,
   "metadata": {},
   "outputs": [],
   "source": [
    "len(g)\n",
    "import pprint\n",
    "\n",
    "for stmt in g:\n",
    "    pprint.pprint(stmt)\n",
    "    print()\n",
    "    \n",
    "g.add( ( URIRef(\"https://iisg.amsterdam/vocab/Author\"), RDFS.subPropertyOf, URIRef(\"http://schema.org/author\")) )"
   ]
  },
  {
   "cell_type": "markdown",
   "metadata": {},
   "source": [
    "# DBpedia Spotlight API\n",
    "\n",
    "See example at https://www.dbpedia-spotlight.org/demo/\n",
    "\n"
   ]
  },
  {
   "cell_type": "code",
   "execution_count": 5,
   "metadata": {},
   "outputs": [
    {
     "name": "stdout",
     "output_type": "stream",
     "text": [
      "{\"@text\":\"The USA are a country located in the northern side of the American continent\",\"@confidence\":\"0.5\",\"@support\":\"0\",\"@types\":\"\",\"@sparql\":\"\",\"@policy\":\"whitelist\",\"Resources\":[{\"@URI\":\"http://dbpedia.org/resource/United_States\",\"@support\":\"563995\",\"@types\":\"Wikidata:Q6256,Schema:Place,Schema:Country,DBpedia:PopulatedPlace,DBpedia:Place,DBpedia:Location,DBpedia:Country\",\"@surfaceForm\":\"USA\",\"@offset\":\"4\",\"@similarityScore\":\"0.9988971056533285\",\"@percentageOfSecondRank\":\"4.5001515580359085E-4\"},{\"@URI\":\"http://dbpedia.org/resource/United_States\",\"@support\":\"563995\",\"@types\":\"Wikidata:Q6256,Schema:Place,Schema:Country,DBpedia:PopulatedPlace,DBpedia:Place,DBpedia:Location,DBpedia:Country\",\"@surfaceForm\":\"American\",\"@offset\":\"58\",\"@similarityScore\":\"0.9960105345124545\",\"@percentageOfSecondRank\":\"0.0030932767971373052\"}]}\n"
     ]
    }
   ],
   "source": [
    "import requests\n",
    "\n",
    "#parameters = {\"text\" : \"USA\"}\n",
    "parameters = {\"text\" : \"The USA are a country located in the northern side of the American continent\"}\n",
    "head = {'Accept' : 'application/json'}\n",
    "\n",
    "r = requests.get(\"https://api.dbpedia-spotlight.org/en/annotate\", params=parameters, headers=head)\n",
    "print(r.text)"
   ]
  },
  {
   "cell_type": "markdown",
   "metadata": {},
   "source": [
    "# GeoNames API\n",
    "\n",
    "See example at http://api.geonames.org/postalCodeSearch?postalcode=9011&maxRows=10&username=demo"
   ]
  },
  {
   "cell_type": "code",
   "execution_count": 3,
   "metadata": {},
   "outputs": [
    {
     "name": "stdout",
     "output_type": "stream",
     "text": [
      "<?xml version=\"1.0\" encoding=\"UTF-8\" standalone=\"no\"?>\n",
      "<geonames>\n",
      "    <status message=\"the daily limit of 20000 credits for demo has been exceeded. Please use an application specific account. Do not use the demo account for your application.\" value=\"18\"/>\n",
      "</geonames>\n",
      "\n"
     ]
    }
   ],
   "source": [
    "import requests\n",
    "\n",
    "parameters = {\"postalcode\" : 1043, \"maxRows\" : 10, \"username\" : \"demo\"}\n",
    "head = {'Accept' : 'application/json'}\n",
    "\n",
    "r = requests.get(\"http://api.geonames.org/postalCodeSearch\", params=parameters, headers=head)\n",
    "print(r.text)"
   ]
  }
 ],
 "metadata": {
  "kernelspec": {
   "display_name": "Python 3",
   "language": "python",
   "name": "python3"
  },
  "language_info": {
   "codemirror_mode": {
    "name": "ipython",
    "version": 3
   },
   "file_extension": ".py",
   "mimetype": "text/x-python",
   "name": "python",
   "nbconvert_exporter": "python",
   "pygments_lexer": "ipython3",
   "version": "3.7.4"
  }
 },
 "nbformat": 4,
 "nbformat_minor": 4
}
